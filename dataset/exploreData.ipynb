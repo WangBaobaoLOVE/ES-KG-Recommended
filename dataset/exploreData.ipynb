{
 "cells": [
  {
   "cell_type": "code",
   "execution_count": 5,
   "metadata": {},
   "outputs": [],
   "source": [
    "import base"
   ]
  },
  {
   "cell_type": "code",
   "execution_count": 6,
   "metadata": {},
   "outputs": [
    {
     "data": {
      "text/plain": [
       "{'id': '29860084',\n",
       " 'work': {'5AD212977CCD7': {'responsibilities': '1、根据出纳整理好的原始凭证审核、录入财务软件，银行对账单的核对，支出凭证的审核，现金明细的核对；\\r\\n2、计提固定资产折旧、长期待摊费用的摊销等；\\r\\n3、出具财务报表、申报各种税费；\\r\\n4、发票的购买和开具；\\r\\n5.、房租合同的整理与保管；\\r\\n6、工商局、税务局等业务的办理；\\r\\n7、领导交办的其他工作等。\\r\\n',\n",
       "   'scale': '100-499人',\n",
       "   'id': '5AD212977CCD7',\n",
       "   'start_time': '2017年01月',\n",
       "   'end_time': '2018年03月',\n",
       "   'so_far': 'N',\n",
       "   'achievement': '1、根据出纳整理好的原始凭证审核、录入财务软件，银行对账单的核对，支出凭证的审核，现金明细的核对；\\r\\n2、计提固定资产折旧、长期待摊费用的摊销等；\\r\\n3、出具财务报表、申报各种税费；\\r\\n4、发票的购买和开具；\\r\\n5.、房租合同的整理与保管；\\r\\n6、工商局、税务局等业务的办理；\\r\\n7、领导交办的其他工作等。\\r\\n',\n",
       "   'corporation_name': '北京京运盛通物业管理有限公司',\n",
       "   'corporation_type': '',\n",
       "   'industry_name': '房地产服务(物业管理/地产经纪)',\n",
       "   'architecture_name': '财务部',\n",
       "   'position_name': '会计',\n",
       "   'station_name': '',\n",
       "   'management_experience': '',\n",
       "   'work_type': '',\n",
       "   'sort_id': 1},\n",
       "  '5AD212977CD27': {'responsibilities': ' 1、每月原始凭证的整理，录入财务软件系统，编制财务报表;\\r\\n2、申报每月的增值税、附加税、个税、季报、年报、工商年检等;\\r\\n3、银行对账单的核对，清理以往账目,整理保管财务资料;\\r\\n4、登记会计账簿；\\r\\n5、税务咨询;\\r\\n6、发票的申领，开具及进项发票认证;\\r\\n7、跟税务局、工商局的对接;\\r\\n8、出具审计报告，整理审计底稿；\\r\\n9、领导交办的其他工作等。',\n",
       "   'scale': '1-49人',\n",
       "   'id': '5AD212977CD27',\n",
       "   'start_time': '2014年12月',\n",
       "   'end_time': '2016年12月',\n",
       "   'so_far': 'N',\n",
       "   'achievement': ' 1、每月原始凭证的整理，录入财务软件系统，编制财务报表;\\r\\n2、申报每月的增值税、附加税、个税、季报、年报、工商年检等;\\r\\n3、银行对账单的核对，清理以往账目,整理保管财务资料;\\r\\n4、登记会计账簿；\\r\\n5、税务咨询;\\r\\n6、发票的申领，开具及进项发票认证;\\r\\n7、跟税务局、工商局的对接;\\r\\n8、出具审计报告，整理审计底稿；\\r\\n9、领导交办的其他工作等。',\n",
       "   'corporation_name': '北京中林诚诺会计师/税务师事务所有限公司',\n",
       "   'corporation_type': '',\n",
       "   'industry_name': '专业服务(咨询/财会/法律/翻译等)',\n",
       "   'architecture_name': '财务部',\n",
       "   'position_name': '会计',\n",
       "   'station_name': '',\n",
       "   'management_experience': '',\n",
       "   'work_type': '',\n",
       "   'sort_id': 2}},\n",
       " 'education': {'5AD212977DC44': {'degree': 1,\n",
       "   'id': '5AD212977DC44',\n",
       "   'start_time': '2011年09月',\n",
       "   'end_time': '2015年06月',\n",
       "   'so_far': 'N',\n",
       "   'school_name': '河南财经学院成功学院',\n",
       "   'discipline_name': '财务管理',\n",
       "   'is_entrance': 'Y',\n",
       "   'sort_id': 1}},\n",
       " 'project': {'5AD212977DC87': {'name': '审计',\n",
       "   'describe': '公司通过招标取得了对北外文学院院长离任审计的业务，我跟随我们事务所的一个注册会计师去现场审计了两周左右及后续出具报告的过程。',\n",
       "   'responsibilities': '跟审计组长一起检查记账凭证及相关业务凭证。',\n",
       "   'id': '5AD212977DC87',\n",
       "   'start_time': '2016年11月',\n",
       "   'end_time': '2016年11月',\n",
       "   'so_far': 'N',\n",
       "   'position_name': '',\n",
       "   'corporation_name': '北京外国语大学',\n",
       "   'sort_id': 1}}}"
      ]
     },
     "execution_count": 6,
     "metadata": {},
     "output_type": "execute_result"
    }
   ],
   "source": [
    "base.generateOneSampleFromDataset()"
   ]
  },
  {
   "cell_type": "markdown",
   "metadata": {},
   "source": [
    "可以看到这是简历数据集中的一个样本数据。看到数据我就觉得特别好笑，数据提供的时候在里面有一个类似的说明文件——MANIFEST.TXT。里面有这么一句话：\n",
    "\n",
    "```\n",
    "e成科技简历脱敏数据集_数据字典.xlsx skipped because the total size of the download bundle exceeded the limit of 104857600 bytes.\n",
    "```\n",
    "\n",
    "意思就是加上e成科技简历脱敏数据集_数据字典.xlsx这个文件超出了文件下载的大小限制，所有就忽略了，不提供了。哭，10万多简历呢！不会删除几条？让我猜呢！虽然大致能知道每个字段的含义。"
   ]
  },
  {
   "cell_type": "markdown",
   "metadata": {},
   "source": [
    "## 数据字段的含义（猜的）\n",
    "\n",
    "- id:这个可以看作是这份简历的唯一标识；\n",
    "- work:求职者的工作经历，之前可能做过好几份工作，所以这里的数据不唯一。work里面的字段基本是不会相同的，因为里面字段相当于一份工作的id，可以在其对应的value中发现，其又包含了一个id字段并和value的key是一样的。\n",
    "  - responsibilities：介绍求职者这份工作的主要工作内容是什么；\n",
    "  - achievement：同responsibilities字段，内容完全一样；\n",
    "  - scale：指的是该工作所在公司的规模，以员工数量衡量，单位‘人’；\n",
    "  - id：这份工作的唯一标识；\n",
    "  - start_time: 入职时间；\n",
    "  - end_time: 离职时间；\n",
    "  - so_far: **暂时未知**；\n",
    "  - corporation_name: 企业名称；\n",
    "  - corporation_type: 企业类型；\n",
    "  - industry_name: 所属行业领域；\n",
    "  - architecture_name: 工作部门；\n",
    "  - position_name: '职位名称；\n",
    "  - station_name:**暂时未知**；\n",
    "  - management_experience: '',\n",
    "  - work_type': '',\n",
    "  - sort_id': 1"
   ]
  },
  {
   "cell_type": "code",
   "execution_count": null,
   "metadata": {},
   "outputs": [],
   "source": []
  }
 ],
 "metadata": {
  "kernelspec": {
   "display_name": "Python 3",
   "language": "python",
   "name": "python3"
  },
  "language_info": {
   "codemirror_mode": {
    "name": "ipython",
    "version": 3
   },
   "file_extension": ".py",
   "mimetype": "text/x-python",
   "name": "python",
   "nbconvert_exporter": "python",
   "pygments_lexer": "ipython3",
   "version": "3.7.6"
  }
 },
 "nbformat": 4,
 "nbformat_minor": 4
}
